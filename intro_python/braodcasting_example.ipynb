{
 "cells": [
  {
   "cell_type": "code",
   "execution_count": 2,
   "metadata": {},
   "outputs": [
    {
     "output_type": "stream",
     "name": "stdout",
     "text": "[[ 56.    0.    4.4  68. ]\n [  1.8 135.   99.    0.9]\n [  1.8 135.   99.    0.9]]\n"
    }
   ],
   "source": [
    "import numpy as np\n",
    "\n",
    "A = np.array([\n",
    "    [56.0, 0.0, 4.4, 68.0],\n",
    "    [1.8,135.0, 99.0, 0.9],\n",
    "    [1.8, 135.0, 99.0, 0.9]\n",
    "])\n",
    "print(A)"
   ]
  },
  {
   "cell_type": "code",
   "execution_count": 16,
   "metadata": {},
   "outputs": [
    {
     "output_type": "stream",
     "name": "stdout",
     "text": "[ 59.6 270.  202.4  69.8]\ntype of cal <class 'numpy.ndarray'>\n# of rows and cols (4,)\n[ 59.6 270.  202.4  69.8]\ntype of cal, reshaped <class 'numpy.ndarray'>\n# of rows and cols, reshaped (4,)\n"
    }
   ],
   "source": [
    "cal = A.sum(axis =0)\n",
    "print(cal)\n",
    "print(\"type of cal\", type(cal))\n",
    "print(\"# of rows and cols\", cal.shape)\n",
    "\n",
    "# same, since cal is already 1 by 4 matirx\n",
    "\n",
    "cal.reshape(1,4)\n",
    "print(cal)\n",
    "print(\"type of cal, reshaped\", type(cal))\n",
    "print(\"# of rows and cols, reshaped\", cal.shape)\n"
   ]
  },
  {
   "cell_type": "code",
   "execution_count": 5,
   "metadata": {},
   "outputs": [
    {
     "output_type": "stream",
     "name": "stdout",
     "text": "[[93.95973154  0.          2.17391304 97.42120344]\n [ 3.02013423 50.         48.91304348  1.28939828]\n [ 3.02013423 50.         48.91304348  1.28939828]]\n"
    }
   ],
   "source": [
    "percentage = 100 * A /cal.reshape(1,4)\n",
    "print(percentage)"
   ]
  },
  {
   "cell_type": "code",
   "execution_count": 6,
   "metadata": {},
   "outputs": [
    {
     "output_type": "execute_result",
     "data": {
      "text/plain": "array([[0.93959732, 0.        , 0.02173913, 0.97421203],\n       [0.03020134, 0.5       , 0.48913043, 0.01289398],\n       [0.03020134, 0.5       , 0.48913043, 0.01289398]])"
     },
     "metadata": {},
     "execution_count": 6
    }
   ],
   "source": [
    "A / cal"
   ]
  },
  {
   "cell_type": "code",
   "execution_count": 8,
   "metadata": {},
   "outputs": [
    {
     "output_type": "stream",
     "name": "stdout",
     "text": "[[93.95973154  0.          2.17391304 97.42120344]\n [ 3.02013423 50.         48.91304348  1.28939828]\n [ 3.02013423 50.         48.91304348  1.28939828]]\n"
    }
   ],
   "source": [
    "pct = 100 * A / cal\n",
    "print(pct)\n",
    "\n"
   ]
  },
  {
   "cell_type": "code",
   "execution_count": 12,
   "metadata": {},
   "outputs": [
    {
     "output_type": "execute_result",
     "data": {
      "text/plain": "numpy.ndarray"
     },
     "metadata": {},
     "execution_count": 12
    }
   ],
   "source": [
    "type(cal)\n",
    "type(cal.reshape(1,4))"
   ]
  },
  {
   "cell_type": "code",
   "execution_count": 20,
   "metadata": {},
   "outputs": [
    {
     "output_type": "execute_result",
     "data": {
      "text/plain": "array([[101, 102, 103],\n       [204, 205, 206]])"
     },
     "metadata": {},
     "execution_count": 20
    }
   ],
   "source": [
    "np.array([\n",
    "    [1,2,3],\n",
    "    [4,5,6]\n",
    "]) + np.array([[100]\n",
    ", [200]])"
   ]
  },
  {
   "cell_type": "code",
   "execution_count": 37,
   "metadata": {},
   "outputs": [
    {
     "output_type": "execute_result",
     "data": {
      "text/plain": "(5,)"
     },
     "metadata": {},
     "execution_count": 37
    }
   ],
   "source": [
    "a = np.random.randn(5) # don't use\n",
    "\n",
    "#a = a.reshape(5,1)\n",
    "b = np.random.randn(5,1)\n",
    "b = np.random.randn(1,1)\n",
    "#assert(a.shape == (5,1))\n",
    "a.shape"
   ]
  },
  {
   "cell_type": "code",
   "execution_count": 66,
   "metadata": {},
   "outputs": [
    {
     "output_type": "stream",
     "name": "stdout",
     "text": "[-0.96627404 -1.40422478]\n[0.74539198 0.57407623]\n"
    }
   ],
   "source": [
    "print(np.random.randn(2)) # normal distirbution\n",
    "print(np.random.rand(2)) # uniform dist between 0 to 1"
   ]
  },
  {
   "cell_type": "code",
   "execution_count": 70,
   "metadata": {},
   "outputs": [
    {
     "output_type": "stream",
     "name": "stdout",
     "text": "Help on built-in function randn:\n\nrandn(...) method of numpy.random.mtrand.RandomState instance\n    randn(d0, d1, ..., dn)\n    \n    Return a sample (or samples) from the \"standard normal\" distribution.\n    \n    .. note::\n        This is a convenience function for users porting code from Matlab,\n        and wraps `standard_normal`. That function takes a\n        tuple to specify the size of the output, which is consistent with\n        other NumPy functions like `numpy.zeros` and `numpy.ones`.\n    \n    .. note::\n        New code should use the ``standard_normal`` method of a ``default_rng()``\n        instance instead; see `random-quick-start`.\n    \n    If positive int_like arguments are provided, `randn` generates an array\n    of shape ``(d0, d1, ..., dn)``, filled\n    with random floats sampled from a univariate \"normal\" (Gaussian)\n    distribution of mean 0 and variance 1. A single float randomly sampled\n    from the distribution is returned if no argument is provided.\n    \n    Parameters\n    ----------\n    d0, d1, ..., dn : int, optional\n        The dimensions of the returned array, must be non-negative.\n        If no argument is given a single Python float is returned.\n    \n    Returns\n    -------\n    Z : ndarray or float\n        A ``(d0, d1, ..., dn)``-shaped array of floating-point samples from\n        the standard normal distribution, or a single such float if\n        no parameters were supplied.\n    \n    See Also\n    --------\n    standard_normal : Similar, but takes a tuple as its argument.\n    normal : Also accepts mu and sigma arguments.\n    Generator.standard_normal: which should be used for new code.\n    \n    Notes\n    -----\n    For random samples from :math:`N(\\mu, \\sigma^2)`, use:\n    \n    ``sigma * np.random.randn(...) + mu``\n    \n    Examples\n    --------\n    >>> np.random.randn()\n    2.1923875335537315  # random\n    \n    Two-by-four array of samples from N(3, 6.25):\n    \n    >>> 3 + 2.5 * np.random.randn(2, 4)\n    array([[-4.49401501,  4.00950034, -1.81814867,  7.29718677],   # random\n           [ 0.39924804,  4.68456316,  4.99394529,  4.84057254]])  # random\n\n"
    }
   ],
   "source": [
    "help(np.random.randn)"
   ]
  },
  {
   "cell_type": "code",
   "execution_count": null,
   "metadata": {},
   "outputs": [],
   "source": []
  }
 ],
 "metadata": {
  "language_info": {
   "codemirror_mode": {
    "name": "ipython",
    "version": 3
   },
   "file_extension": ".py",
   "mimetype": "text/x-python",
   "name": "python",
   "nbconvert_exporter": "python",
   "pygments_lexer": "ipython3",
   "version": "3.7.6-final"
  },
  "orig_nbformat": 2,
  "kernelspec": {
   "name": "python3",
   "display_name": "Python 3"
  }
 },
 "nbformat": 4,
 "nbformat_minor": 2
}